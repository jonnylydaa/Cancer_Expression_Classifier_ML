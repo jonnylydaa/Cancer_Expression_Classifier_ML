{
  "nbformat": 4,
  "nbformat_minor": 0,
  "metadata": {
    "colab": {
      "provenance": []
    },
    "kernelspec": {
      "display_name": "Python 3",
      "language": "python",
      "name": "python3"
    }
  },
  "cells": [
    {
      "cell_type": "markdown",
      "metadata": {
        "id": "Q_Ma2HpvQc51"
      },
      "source": [
        "# Classifying cancer expression vectors"
      ]
    },
    {
      "cell_type": "markdown",
      "metadata": {
        "id": "CW0BIgD8Qc55"
      },
      "source": [
        "In this assignment you will train a neural network to identify the tissue type that produced an RNA expression vector. The dataset is comprised of RNA-seq data obtained from tumors. \n",
        "\n",
        "For a complete description of the data collection workflow see this page:\n",
        "https://xenabrowser.net/datapages/?host=https://toil.xenahubs.net\n",
        "\n",
        "And for the corresponding publication:\n",
        "https://doi.org/10.1038/nbt.3772"
      ]
    },
    {
      "cell_type": "code",
      "metadata": {
        "scrolled": true,
        "id": "oGeS7--cQc56",
        "colab": {
          "base_uri": "https://localhost:8080/"
        },
        "outputId": "3737cf5f-4963-4885-c7cc-162ceac1ac30"
      },
      "source": [
        "import sys\n",
        "import numpy as np\n",
        "from matplotlib import pyplot\n",
        "import pandas as pd\n",
        "import h5py\n",
        "import os\n",
        "from sklearn.model_selection import StratifiedShuffleSplit\n",
        "import torch\n",
        "import torch.nn as nn\n",
        "from torch import optim\n",
        "from torch.autograd import Variable\n",
        "from torch.utils.data import DataLoader\n",
        "from torch.utils.data.dataset import Dataset\n",
        "import torch.nn.functional as F\n",
        "\n",
        "print(\"USING pytorch VERSION: \", torch.__version__)"
      ],
      "execution_count": 15,
      "outputs": [
        {
          "output_type": "stream",
          "name": "stdout",
          "text": [
            "USING pytorch VERSION:  1.13.1+cu116\n"
          ]
        }
      ]
    },
    {
      "cell_type": "markdown",
      "metadata": {
        "id": "pS7Ix_lFQc6L"
      },
      "source": [
        "## Loading and parsing training data\n",
        "For this problem, expression data needs to be loaded and pruned. Initially, there are >50,000 genes in each expression vector, which can be reduced to a much smaller gene set for the sake of minimizing computation time. Here, the data is subsetted to only include genes from the KEGG gene set. You may want to consider reducing or expanding this dataset to get a better understanding of which genes are predictive, though this is not a requirement for the assignment.\n",
        "\n",
        "For a list of gene sets, check out the MSigDB collections page: http://software.broadinstitute.org/gsea/msigdb/collections.jsp\n",
        "\n",
        "This script was adapted from Rob Currie's ingestion script: https://github.com/rcurrie/tumornormal/blob/master/genesets.ipynb\n",
        "\n",
        "We have placed a subset of this data for this homework in Google drive, you can download it here:\n",
        "\n",
        "https://drive.google.com/drive/folders/1pPABQDEHCddPTJAhfD6G5KyBDJiK3unQ?usp=sharing"
      ]
    },
    {
      "cell_type": "code",
      "metadata": {
        "id": "NnhNSCGW5FHO",
        "colab": {
          "base_uri": "https://localhost:8080/"
        },
        "outputId": "07a02400-0e1d-4f13-9a82-794702438f15"
      },
      "source": [
        "# Load the data - If using Google drive link to access data the following with connect\n",
        "# to drive, authenticate using your Google account and load the data\n",
        "\n",
        "!pip install -U -q PyDrive ## you will have install for every colab session\n",
        "\n",
        "from pydrive.auth import GoogleAuth\n",
        "from pydrive.drive import GoogleDrive\n",
        "from google.colab import auth\n",
        "from oauth2client.client import GoogleCredentials\n",
        "\n",
        "# 1. Authenticate and create the PyDrive client.\n",
        "auth.authenticate_user()\n",
        "gauth = GoogleAuth()\n",
        "gauth.credentials = GoogleCredentials.get_application_default()\n",
        "drive = GoogleDrive(gauth)\n",
        "\n",
        "# x_test: https://drive.google.com/file/d/1Cc4zEw1wANFX8S44L87Rx_EZWwCcONMW/view?usp=sharing\n",
        "# x_train: https://drive.google.com/file/d/1s8VvRaUc62OYukRunV689Y9u-v_y7KRl/view?usp=sharing\n",
        "# y_test: https://drive.google.com/file/d/1W4Qdr3zm5QYGP5ncMQSurrO1m05KsKQ2/view?usp=sharing\n",
        "# t_train: https://drive.google.com/file/d/1UmDZ25W84DmIY4im2XHCAc5QGgNkdexD/view?usp=sharing\n",
        "\n",
        "# 2. Now proxy the Google Drive files to a local file\n",
        "x_test_import = drive.CreateFile({'id':'1Cc4zEw1wANFX8S44L87Rx_EZWwCcONMW'})\n",
        "x_train_import = drive.CreateFile({'id':'1s8VvRaUc62OYukRunV689Y9u-v_y7KRl'})\n",
        "y_test_import = drive.CreateFile({'id':'1W4Qdr3zm5QYGP5ncMQSurrO1m05KsKQ2'})\n",
        "y_train_import = drive.CreateFile({'id':'1UmDZ25W84DmIY4im2XHCAc5QGgNkdexD'})\n",
        "\n",
        "x_test_import.GetContentFile('x_test.npz') # x_test.npz is the file name that will be accessible in the notebook.\n",
        "x_train_import.GetContentFile('x_train.npz') # x_train.npz is the file name that will be accessible in the notebook.\n",
        "y_test_import.GetContentFile('y_test.npz') # y_test.npz is the file name that will be accessible in the notebook.\n",
        "y_train_import.GetContentFile('y_train.npz') # y_train.npz is the file name that will be accessible in the notebook.\n",
        "\n",
        "y_index_key = {'Adipose Tissue': 0, 'Adrenal Gland': 1, 'Adrenal gland': 2, 'Bile duct': 3, 'Bladder': 4, 'Blood': 5, 'Blood Vessel': 6, 'Bone Marrow': 7, 'Brain': 8, 'Breast': 9, 'Cervix': 10, 'Cervix Uteri': 11, 'Colon': 12, 'Endometrium': 13, 'Esophagus': 14, 'Eye': 15, 'Fallopian Tube': 16, 'Head and Neck region': 17, 'Heart': 18, 'Kidney': 19, 'Lining of body cavities': 20, 'Liver': 21, 'Lung': 22, 'Lymphatic tissue': 23, 'Muscle': 24, 'Nerve': 25, 'Ovary': 26, 'Pancreas': 27, 'Paraganglia': 28, 'Pituitary': 29, 'Prostate': 30, 'Rectum': 31, 'Salivary Gland': 32, 'Skin': 33, 'Small Intestine': 34, 'Soft tissue,Bone': 35, 'Spleen': 36, 'Stomach': 37, 'SympatheticÊNervous System': 38, 'Testis': 39, 'Thymus': 40, 'Thyroid': 41, 'Thyroid Gland': 42, 'Uterus': 43, 'Vagina': 44, 'White blood cell': 45}\n",
        "\n",
        "for name in y_index_key:\n",
        "  print(name, y_index_key[name])"
      ],
      "execution_count": 16,
      "outputs": [
        {
          "output_type": "stream",
          "name": "stdout",
          "text": [
            "Adipose Tissue 0\n",
            "Adrenal Gland 1\n",
            "Adrenal gland 2\n",
            "Bile duct 3\n",
            "Bladder 4\n",
            "Blood 5\n",
            "Blood Vessel 6\n",
            "Bone Marrow 7\n",
            "Brain 8\n",
            "Breast 9\n",
            "Cervix 10\n",
            "Cervix Uteri 11\n",
            "Colon 12\n",
            "Endometrium 13\n",
            "Esophagus 14\n",
            "Eye 15\n",
            "Fallopian Tube 16\n",
            "Head and Neck region 17\n",
            "Heart 18\n",
            "Kidney 19\n",
            "Lining of body cavities 20\n",
            "Liver 21\n",
            "Lung 22\n",
            "Lymphatic tissue 23\n",
            "Muscle 24\n",
            "Nerve 25\n",
            "Ovary 26\n",
            "Pancreas 27\n",
            "Paraganglia 28\n",
            "Pituitary 29\n",
            "Prostate 30\n",
            "Rectum 31\n",
            "Salivary Gland 32\n",
            "Skin 33\n",
            "Small Intestine 34\n",
            "Soft tissue,Bone 35\n",
            "Spleen 36\n",
            "Stomach 37\n",
            "SympatheticÊNervous System 38\n",
            "Testis 39\n",
            "Thymus 40\n",
            "Thyroid 41\n",
            "Thyroid Gland 42\n",
            "Uterus 43\n",
            "Vagina 44\n",
            "White blood cell 45\n"
          ]
        }
      ]
    },
    {
      "cell_type": "markdown",
      "metadata": {
        "id": "m5u_LlXvQc6V"
      },
      "source": [
        "## Define a pytorch Dataset object to contain the training and testing data\n",
        "Pytorch handles data shuffling and batch loading, as long as the user provides a \"Dataset\" class. This class is just a wrapper for your data that casts the data into pytorch tensor format and returns slices of the data. In this case, our data has been stored in numpy format, which conveniently pytorch has a method for converting to their native format."
      ]
    },
    {
      "cell_type": "code",
      "metadata": {
        "id": "jLJ6bZveQc6W"
      },
      "source": [
        "class PrimarySiteDataset(Dataset):\n",
        "    def __init__(self, x_path, y_path, batch_size=None):\n",
        "        x = np.load(x_path)['a']\n",
        "        y = np.load(y_path)['a']\n",
        "\n",
        "        x_dtype = torch.FloatTensor\n",
        "        y_dtype = torch.FloatTensor     # for MSE Loss\n",
        "\n",
        "        self.length = x.shape[0]\n",
        "\n",
        "        self.x_data = torch.from_numpy(x).type(x_dtype)\n",
        "        self.y_data = torch.from_numpy(y).type(y_dtype)\n",
        "\n",
        "    def __getitem__(self, index):\n",
        "        return self.x_data[index], self.y_data[index]\n",
        "\n",
        "    def __len__(self):\n",
        "        return self.length\n"
      ],
      "execution_count": 17,
      "outputs": []
    },
    {
      "cell_type": "markdown",
      "source": [
        "The ShallowLinear class inherits the pytorch.nn module attributes. This class defines the number of layers, the size of the layers, and the activation function. The method 'forward' takes in an input vector x which is sequentially operated on by the layers of the model. The training and testing method calls forward to calculate the model's output."
      ],
      "metadata": {
        "id": "fQY8oSy3s0SQ"
      }
    },
    {
      "cell_type": "code",
      "source": [
        "\n",
        "class ShallowLinear(nn.Module):\n",
        "    '''\n",
        "    A simple, general purpose, fully connected network\n",
        "    '''\n",
        "    def __init__(self):\n",
        "        # Perform initialization of the pytorch superclass\n",
        "        super(ShallowLinear, self).__init__()\n",
        "        # Define network layer dimensions\n",
        "        # D_in, H1, H2, D_out = [8, 5172, 5172, 46]    # These numbers correspond to each layer: [input, hidden_1, output]\n",
        "        D_in = 5172   # input features\n",
        "        H1 = 3000 # batch size\n",
        "        H2 = 2000\n",
        "        # H3 = 1000\n",
        "        D_out = 46  # output\n",
        "        # Define layer types\n",
        "        # parameters associated with edges, not nodes\n",
        "        self.linear1 = nn.Linear(D_in, H1)\n",
        "        self.linear2 = nn.Linear(H1, H2)\n",
        "        self.linear3 = nn.Linear(H2, D_out)\n",
        "        # self.linear4 = nn.Linear(H3, D_out)\n",
        "        # self.linear2 = nn.Linear(H1, H2)\n",
        "        # self.linear3 = nn.Linear(H2, D_out)  # added new hidden layer\n",
        "\n",
        "    def forward(self, x):\n",
        "        '''\n",
        "        This method defines the network layering and activation functions\n",
        "        '''\n",
        "        # print(\"in forward beginning\")\n",
        "        \n",
        "        x = self.linear1(x)\n",
        "        x = torch.relu(x)\n",
        "        x = self.linear2(x)\n",
        "        x = torch.relu(x)\n",
        "        x = self.linear3(x)\n",
        "        # x = torch.relu(x)\n",
        "        # x = self.linear4(x)\n",
        "\n",
        "\n",
        "        return x"
      ],
      "metadata": {
        "id": "JIpN_PeysFpL"
      },
      "execution_count": 18,
      "outputs": []
    },
    {
      "cell_type": "markdown",
      "source": [
        "The train_batch function trains the model with a training data by computing the forward pass, the calculation of loss with the 'loss_fn', and the updating of the parameters with the 'optimizer'.\n",
        "\n",
        "'model' is the model that's getting trained.\n",
        "\n",
        "'x' is the input data.\n",
        "\n",
        "'y' is the output data.\n",
        "\n",
        "'optimizer' is the optimizer object that updates the model parameters.\n",
        "\n",
        "'loss_fn' is the loss function\n",
        "\n",
        "This function outputs the loss value for the training data."
      ],
      "metadata": {
        "id": "l-dYzLiVs1Ks"
      }
    },
    {
      "cell_type": "code",
      "source": [
        "def train_batch(model, x, y, optimizer, loss_fn):\n",
        "    ## Note, in practice pytorch can do this all for you in one step, but showing you here to be explicit\n",
        "    \n",
        "    # Run forward calculation\n",
        "    y_predict = model.forward(x)\n",
        "\n",
        "    # convert 1-hot vectors back into indices \n",
        "    max_values, target_index = y.max(dim=1) \n",
        "    target_index = target_index.type(torch.LongTensor)\n",
        "    loss = loss_fn(y_predict, target_index)\n",
        "\n",
        "    # loss = loss_fn(y_predict, y)\n",
        "\n",
        "    # Before the backward pass, use the optimizer object to zero all of the\n",
        "    # gradients for the variables it will update (which are the learnable weights\n",
        "    # of the model)\n",
        "    optimizer.zero_grad()\n",
        "\n",
        "    # Backward pass: compute gradient of the loss with respect to model\n",
        "    # parameters\n",
        "    loss.backward()\n",
        "\n",
        "    # Calling the step function on an Optimizer makes an update to its\n",
        "    # parameters\n",
        "    optimizer.step()\n",
        "\n",
        "    return loss.data.item()"
      ],
      "metadata": {
        "id": "9KaP3W_IsTRT"
      },
      "execution_count": 19,
      "outputs": []
    },
    {
      "cell_type": "markdown",
      "source": [
        "The train function trains the model by calling the train_batch function.\n",
        "\n",
        "'model' is the model being trained.\n",
        "\n",
        "'loader' is the data loader for the inputs and outputs of the model.\n",
        "\n",
        "'optimizer' is the optimizer object that updates the model parameters.\n",
        "\n",
        "'loss_fn' is the loss function.\n",
        "\n",
        "'epochs' is the amount of iterations through the training dataset.\n",
        "\n",
        "This function returns all the losses.\n",
        "\n"
      ],
      "metadata": {
        "id": "SlAkmnsMs2TJ"
      }
    },
    {
      "cell_type": "code",
      "source": [
        "def train(model, loader, optimizer, loss_fn, epochs=5):\n",
        "    losses = list()\n",
        "\n",
        "    batch_index = 0\n",
        "    for e in range(epochs):\n",
        "        for x, y in loader:\n",
        "\n",
        "            loss = train_batch(model=model, x=x, y=y, optimizer=optimizer, loss_fn=loss_fn)\n",
        "\n",
        "            losses.append(loss)\n",
        "\n",
        "            batch_index += 1\n",
        "\n",
        "        print(\"Epoch: \", e+1)\n",
        "        print(\"Batches: \", batch_index)\n",
        "\n",
        "    return losses"
      ],
      "metadata": {
        "id": "ZO40WuIAsXI6"
      },
      "execution_count": 20,
      "outputs": []
    },
    {
      "cell_type": "markdown",
      "source": [
        "The test_batch function runs the forward calculation on the model.\n",
        "\n",
        "'model' is the model to be tested.\n",
        "\n",
        "'x' is the input data.\n",
        "\n",
        "'y' is the output data.\n",
        "\n",
        "This function returns the output data and the predicted output of the model."
      ],
      "metadata": {
        "id": "w2CQbl3Ss21g"
      }
    },
    {
      "cell_type": "code",
      "source": [
        "def test_batch(model, x, y):\n",
        "    # run forward calculation\n",
        "    # print(\"x batch: \", x)\n",
        "    y_predict = model.forward(x)\n",
        "    # print(\"y_predict: \", y_predict)\n",
        "    # print(y, y_predict)\n",
        "    return y, y_predict"
      ],
      "metadata": {
        "id": "89Xytk07sao4"
      },
      "execution_count": 21,
      "outputs": []
    },
    {
      "cell_type": "markdown",
      "source": [
        "The test function uses a data loader from pytorch to check performance of the model.\n",
        "\n",
        "'model' is the model to be tested.\n",
        "\n",
        "'loader' is a data loader that holds the test data\n",
        "\n",
        "This function outputs an array with predicted outputs of the model based on the test data."
      ],
      "metadata": {
        "id": "pJ-OebFJs3K4"
      }
    },
    {
      "cell_type": "code",
      "source": [
        "def test(model, loader):\n",
        "    y_vectors = list()\n",
        "    y_predict_vectors = list()\n",
        "\n",
        "    batch_index = 0\n",
        "    for x, y in loader:\n",
        "        # print(\"x: \", x)\n",
        "        # print(\"y: \", y)\n",
        "        y, y_predict = test_batch(model=model, x=x, y=y)\n",
        "        # print(\"y, y_predict :\", y[0], y_predict[0])\n",
        "        y_truth = y\n",
        "        print(\"y_predict y\")\n",
        "        for prediction in range(0, len(y_predict[0])):\n",
        "            print(f\"{y_predict[0][prediction]:.3f}\", \"   \", int(y[0][prediction].item()))        \n",
        "\n",
        "        y_vectors.append(y.data.numpy())\n",
        "        y_predict_vectors.append(y_predict.data.numpy())\n",
        "\n",
        "        batch_index += 1\n",
        "\n",
        "    y_predict_vector = np.concatenate(y_predict_vectors)\n",
        "\n",
        "    return y_predict_vector, y_truth, y_predict"
      ],
      "metadata": {
        "id": "PaQfQn74sdRn"
      },
      "execution_count": 22,
      "outputs": []
    },
    {
      "cell_type": "markdown",
      "source": [
        "The plot_loss function plots the losses using matplotlib.\n",
        "\n",
        "'losses' is a list of losses.\n",
        "\n",
        "This function outputs a plot of the losses from the model."
      ],
      "metadata": {
        "id": "NIrhqeMWs3vX"
      }
    },
    {
      "cell_type": "code",
      "source": [
        "def plot_loss(losses):\n",
        "    fig = pyplot.gcf()\n",
        "    fig.set_size_inches(8,6)\n",
        "    ax = pyplot.axes()\n",
        "    ax.set_xlabel(\"Iteration\")\n",
        "    ax.set_ylabel(\"Loss\")\n",
        "    x_loss = list(range(len(losses)))\n",
        "    pyplot.plot(x_loss, losses)\n",
        "    pyplot.show()\n",
        "    pyplot.close()\n"
      ],
      "metadata": {
        "id": "bMz-T9bqsgSU"
      },
      "execution_count": 23,
      "outputs": []
    },
    {
      "cell_type": "markdown",
      "source": [
        "The run function trains a model on a training dataset and then checks the performance of the model with the test dataset.\n",
        "\n",
        "'dataset_train' contains the training data.\n",
        "\n",
        "'dataset_test' contains the test data.\n",
        "\n",
        "'batch_size_train' is the number of training examples used for training.\n",
        "\n",
        "'n_epochs' is the number of iterations over the training set for training.\n",
        "\n",
        "This function returns the loss values and the predicted outputs for the test data."
      ],
      "metadata": {
        "id": "hPEC1njAs4c7"
      }
    },
    {
      "cell_type": "code",
      "source": [
        "def run(dataset_train, dataset_test, batch_size_train = 80, n_epochs = 5):\n",
        "    # Batch size is the number of training examples used to calculate each iteration's gradient\n",
        "    \n",
        "    \n",
        "    data_loader_train = DataLoader(dataset=dataset_train, batch_size=batch_size_train, shuffle=True)\n",
        "    data_loader_test = DataLoader(dataset=dataset_test, batch_size=dataset_test.length, shuffle=False)\n",
        "    \n",
        "    # Define the hyperparameters\n",
        "    learning_rate = 1e-2\n",
        "    shallow_model = ShallowLinear()\n",
        "    \n",
        "    # Initialize the optimizer with above parameters\n",
        "    # optimizer = optim.Adam(shallow_model.parameters(), lr=learning_rate)\n",
        "    optimizer = optim.SGD(shallow_model.parameters(), lr=learning_rate)\n",
        "    # Define the loss function\n",
        "    # loss_fn = nn.MSELoss()  # mean squared error\n",
        "\n",
        "    loss_fn = nn.CrossEntropyLoss()\n",
        "    \n",
        "    # Train and get the resulting loss per iteration\n",
        "    loss = train(model=shallow_model, loader=data_loader_train, optimizer=optimizer, loss_fn=loss_fn, epochs=n_epochs)\n",
        "    # print(\"hello\")\n",
        "    # Test and get the resulting predicted y values\n",
        "    y_predict, y_truth, y_prediction = test(model=shallow_model, loader=data_loader_test)\n",
        "    # highPredicts = np.empty((len(dataset_train[1][1]), 1))\n",
        "    # highPredicts = []\n",
        "    # for item in y_predict:\n",
        "    #   highPredicts.append(np.argmax(y_predict[item]))\n",
        "    # # highPredicts = np.argmax(y_predict)\n",
        "    # # highYs = np.argmax(y)\n",
        "    # highPredicts = np.array(highPredicts)\n",
        "    # print(\"highPredicts: \", highPredicts)\n",
        "    # print(\"shape of highPredicts: \", highPredicts.shape)\n",
        "    # # print(\"shape of Ys: \", highYs.shape)\n",
        "\n",
        "    return loss, y_predict, y_truth, y_prediction"
      ],
      "metadata": {
        "id": "uzvsBVfnsksG"
      },
      "execution_count": 24,
      "outputs": []
    },
    {
      "cell_type": "markdown",
      "metadata": {
        "id": "8pyqPdA0pI6N"
      },
      "source": [
        "example dataset\n"
      ]
    },
    {
      "cell_type": "code",
      "metadata": {
        "id": "qKn65jfupJEz",
        "colab": {
          "base_uri": "https://localhost:8080/"
        },
        "outputId": "0449265a-bdff-4f98-b32c-b50bd9616e6f"
      },
      "source": [
        "x_train_path = \"x_train.npz\"\n",
        "y_train_path = \"y_train.npz\"\n",
        "x_test_path = \"x_test.npz\"\n",
        "y_test_path = \"y_test.npz\"\n",
        "dataset_train = PrimarySiteDataset(x_path=x_train_path,\n",
        "y_path=y_train_path)\n",
        "dataset_test = PrimarySiteDataset(x_path=x_test_path,\n",
        "y_path=y_test_path)\n",
        "\n",
        "# print(\"Train set size: \", dataset_train.length)\n",
        "# print(\"Test set size: \", dataset_test.length)\n",
        "\n",
        "losses, y_predict, y_truth, y_prediction = run(dataset_train=dataset_train, dataset_test=dataset_test)\n"
      ],
      "execution_count": 25,
      "outputs": [
        {
          "output_type": "stream",
          "name": "stdout",
          "text": [
            "Epoch:  1\n",
            "Batches:  192\n",
            "Epoch:  2\n",
            "Batches:  384\n",
            "Epoch:  3\n",
            "Batches:  576\n",
            "Epoch:  4\n",
            "Batches:  768\n",
            "Epoch:  5\n",
            "Batches:  960\n",
            "y_predict y\n",
            "-5.005     0\n",
            "1.361     0\n",
            "0.468     0\n",
            "-2.577     0\n",
            "-2.787     0\n",
            "-3.066     0\n",
            "-3.383     0\n",
            "0.121     0\n",
            "14.822     1\n",
            "-2.461     0\n",
            "-2.834     0\n",
            "0.355     0\n",
            "2.170     0\n",
            "-0.875     0\n",
            "-1.228     0\n",
            "3.869     0\n",
            "0.347     0\n",
            "-2.327     0\n",
            "0.834     0\n",
            "-0.176     0\n",
            "0.069     0\n",
            "-4.200     0\n",
            "-4.464     0\n",
            "-3.871     0\n",
            "0.104     0\n",
            "1.316     0\n",
            "0.508     0\n",
            "-0.268     0\n",
            "5.127     0\n",
            "6.289     0\n",
            "0.002     0\n",
            "-0.983     0\n",
            "-1.018     0\n",
            "0.447     0\n",
            "0.055     0\n",
            "0.116     0\n",
            "-2.710     0\n",
            "-1.623     0\n",
            "5.572     0\n",
            "1.507     0\n",
            "-0.113     0\n",
            "-0.486     0\n",
            "-1.682     0\n",
            "2.319     0\n",
            "0.338     0\n",
            "-2.195     0\n"
          ]
        }
      ]
    },
    {
      "cell_type": "code",
      "source": [
        "# print(\"y_predict: \", y_prediction)\n",
        "# print(\"y_truth: \", y_truth)\n",
        "argmax_y_true = np.argmax(y_truth, axis = 1)\n",
        "argmax_y_predict = np.argmax(y_prediction.detach().numpy(), axis = 1)\n",
        "\n",
        "print(\"argmax y true shape: \", argmax_y_true.shape)\n",
        "print(\"argmax y predict shape: \", argmax_y_predict.shape)\n",
        "print(\"argmax y true[0]: \", argmax_y_true[0])\n",
        "print(\"argmax y predict[0]: \", argmax_y_predict[0])\n",
        "# print(\"argmax y true: \", argmax_y_true)\n",
        "# print(\"argmax y predict: \", argmax_y_predict)\n",
        "\n",
        "matches = 0\n",
        "for item in range(len(argmax_y_predict)):\n",
        "  if argmax_y_predict[item] == argmax_y_true[item]:\n",
        "    matches += 1\n",
        "\n",
        "print(\"Accuracy: \", matches/len(argmax_y_predict))\n",
        "\n",
        "%matplotlib inline  \n",
        "# The above is required to display matplotlib in jupyter\n",
        "import matplotlib.pyplot as plt\n",
        "from sklearn.metrics import confusion_matrix\n",
        "import seaborn as sns\n",
        "\n",
        "n, bins, patches = plt.hist(argmax_y_true, bins=len(dataset_train[1][1]), density=0, cumulative=0)\n",
        "\n",
        "plt.title('y_truth')\n",
        "\n",
        "plt.show()\n",
        "n, bins, patches = plt.hist(argmax_y_predict, bins=len(dataset_train[1][1]), density=0, cumulative=0)\n",
        "plt.title('y_predict')\n",
        "plt.show()\n",
        "\n",
        "cM = confusion_matrix(argmax_y_true, argmax_y_predict, normalize='all')\n",
        "# print(\"cM: \", cM)\n",
        "\n",
        "labels = []\n",
        "for k, v in y_index_key.items():\n",
        "  labels.append(k)\n",
        "df_cm = pd.DataFrame(cM, index = labels,\n",
        "                  columns = labels)\n",
        "plt.figure(figsize = (10,7))\n",
        "# print(\"labels: \", labels)\n",
        "plt.title('Confusion Matrix Heatmap')\n",
        "\n",
        "sns.heatmap(df_cm, cmap=sns.cubehelix_palette(as_cmap=True), xticklabels=labels, yticklabels=labels)\n",
        "plt.xlabel('Tissue')\n",
        "\n",
        "plt.show()\n",
        "\n",
        "from sklearn.metrics import classification_report\n",
        "cR = classification_report(argmax_y_true, argmax_y_predict, target_names=labels)\n",
        "print(\"classification report: \", cR)\n",
        "plot_loss(losses)\n",
        "# print(\"losses: \", losses)\n",
        "# print(\"Final loss:\", sum(losses[-100:])/100)  # report the loss # 0.020917454063892366 with batch_size = 8\n",
        "# loss = 0.020898071601986885 with batch size 20\n",
        "# print(\"y_predict end: \", y_predict)    #y_predict = [y1, y2, ... y46] (# of examples)\n"
      ],
      "metadata": {
        "colab": {
          "base_uri": "https://localhost:8080/",
          "height": 1000
        },
        "id": "C3AAKInTakaG",
        "outputId": "01a88df3-80f7-4de2-c2a1-ee2491688068"
      },
      "execution_count": 29,
      "outputs": [
        {
          "output_type": "stream",
          "name": "stdout",
          "text": [
            "argmax y true shape:  torch.Size([3826])\n",
            "argmax y predict shape:  (3826,)\n",
            "argmax y true[0]:  tensor(8)\n",
            "argmax y predict[0]:  8\n",
            "Accuracy:  0.9610559330893884\n"
          ]
        },
        {
          "output_type": "display_data",
          "data": {
            "text/plain": [
              "<Figure size 432x288 with 1 Axes>"
            ],
            "image/png": "[encoded data removed]"
          },
          "metadata": {
            "needs_background": "light"
          }
        },
        {
          "output_type": "display_data",
          "data": {
            "text/plain": [
              "<Figure size 432x288 with 1 Axes>"
            ],
            "image/png": "[encoded data removed]"
          },
          "metadata": {
            "needs_background": "light"
          }
        },
        {
          "output_type": "display_data",
          "data": {
            "text/plain": [
              "<Figure size 720x504 with 2 Axes>"
            ],
            "image/png": "[encoded data removed]"
          },
          "metadata": {
            "needs_background": "light"
          }
        },
        {
          "output_type": "stream",
          "name": "stderr",
          "text": [
            "/usr/local/lib/python3.8/dist-packages/sklearn/metrics/_classification.py:1344: UndefinedMetricWarning: Precision and F-score are ill-defined and being set to 0.0 in labels with no predicted samples. Use `zero_division` parameter to control this behavior.\n",
            "  _warn_prf(average, modifier, msg_start, len(result))\n",
            "/usr/local/lib/python3.8/dist-packages/sklearn/metrics/_classification.py:1344: UndefinedMetricWarning: Precision and F-score are ill-defined and being set to 0.0 in labels with no predicted samples. Use `zero_division` parameter to control this behavior.\n",
            "  _warn_prf(average, modifier, msg_start, len(result))\n",
            "/usr/local/lib/python3.8/dist-packages/sklearn/metrics/_classification.py:1344: UndefinedMetricWarning: Precision and F-score are ill-defined and being set to 0.0 in labels with no predicted samples. Use `zero_division` parameter to control this behavior.\n",
            "  _warn_prf(average, modifier, msg_start, len(result))\n"
          ]
        },
        {
          "output_type": "stream",
          "name": "stdout",
          "text": [
            "classification report:                              precision    recall  f1-score   support\n",
            "\n",
            "            Adipose Tissue       0.92      0.98      0.95       103\n",
            "             Adrenal Gland       0.96      1.00      0.98        26\n",
            "             Adrenal gland       1.00      0.93      0.97        15\n",
            "                 Bile duct       0.80      0.44      0.57         9\n",
            "                   Bladder       0.98      0.98      0.98        87\n",
            "                     Blood       1.00      1.00      1.00        89\n",
            "              Blood Vessel       0.94      0.99      0.97       121\n",
            "               Bone Marrow       1.00      1.00      1.00        14\n",
            "                     Brain       1.00      1.00      1.00       369\n",
            "                    Breast       1.00      0.96      0.98       278\n",
            "                    Cervix       0.84      0.95      0.89        62\n",
            "              Cervix Uteri       0.00      0.00      0.00         2\n",
            "                     Colon       0.84      0.96      0.89       128\n",
            "               Endometrium       0.94      0.76      0.84        41\n",
            "                 Esophagus       0.86      0.98      0.92       170\n",
            "                       Eye       0.94      1.00      0.97        16\n",
            "            Fallopian Tube       0.00      0.00      0.00         1\n",
            "      Head and Neck region       0.82      0.95      0.88       113\n",
            "                     Heart       1.00      0.99      0.99        75\n",
            "                    Kidney       0.99      0.99      0.99       239\n",
            "   Lining of body cavities       1.00      0.88      0.94        17\n",
            "                     Liver       0.96      0.99      0.98       106\n",
            "                      Lung       0.99      0.91      0.95       282\n",
            "          Lymphatic tissue       0.90      1.00      0.95         9\n",
            "                    Muscle       0.99      1.00      0.99        79\n",
            "                     Nerve       0.98      1.00      0.99        56\n",
            "                     Ovary       0.99      0.97      0.98       103\n",
            "                  Pancreas       1.00      0.94      0.97        70\n",
            "               Paraganglia       0.92      0.97      0.95        37\n",
            "                 Pituitary       1.00      1.00      1.00        21\n",
            "                  Prostate       1.00      0.99      1.00       130\n",
            "                    Rectum       0.00      0.00      0.00        21\n",
            "            Salivary Gland       1.00      0.91      0.95        11\n",
            "                      Skin       0.99      0.99      0.99       257\n",
            "           Small Intestine       0.94      0.89      0.91        18\n",
            "          Soft tissue,Bone       0.88      0.92      0.90        53\n",
            "                    Spleen       1.00      1.00      1.00        20\n",
            "                   Stomach       0.97      0.84      0.90       125\n",
            "SympatheticÊNervous System       1.00      0.97      0.98        32\n",
            "                    Testis       1.00      1.00      1.00        64\n",
            "                    Thymus       1.00      0.96      0.98        24\n",
            "                   Thyroid       1.00      1.00      1.00        56\n",
            "             Thyroid Gland       1.00      1.00      1.00       114\n",
            "                    Uterus       0.74      0.93      0.82        27\n",
            "                    Vagina       1.00      0.88      0.94        17\n",
            "          White blood cell       1.00      1.00      1.00       119\n",
            "\n",
            "                  accuracy                           0.96      3826\n",
            "                 macro avg       0.89      0.89      0.89      3826\n",
            "              weighted avg       0.96      0.96      0.96      3826\n",
            "\n"
          ]
        },
        {
          "output_type": "display_data",
          "data": {
            "text/plain": [
              "<Figure size 576x432 with 1 Axes>"
            ],
            "image/png": "[encoded data removed]"
          },
          "metadata": {
            "needs_background": "light"
          }
        }
      ]
    },
    {
      "cell_type": "code",
      "metadata": {
        "id": "XxBJhl2CpTUE",
        "colab": {
          "base_uri": "https://localhost:8080/"
        },
        "outputId": "47d7f165-316b-4c5a-e5f8-98ba90e13d45"
      },
      "source": [
        "# Print information on the train and test datasets\n",
        "# print(dataset_train.x_data)\n",
        "print('Train datapoints: ', len(dataset_train))\n",
        "print('Test datapoints: ', len(dataset_test))\n",
        "print('Input features: ', len(dataset_train[1][0]))\n",
        "print('Output classes: ', len(dataset_train[1][1]))"
      ],
      "execution_count": 27,
      "outputs": [
        {
          "output_type": "stream",
          "name": "stdout",
          "text": [
            "Train datapoints:  15300\n",
            "Test datapoints:  3826\n",
            "Input features:  5172\n",
            "Output classes:  46\n"
          ]
        }
      ]
    },
    {
      "cell_type": "markdown",
      "source": [
        "QUESTIONS:\n",
        "\n",
        "Part 1: \n",
        "1. There are 15300 training examples in the dataset.\n",
        "2. The proportion of the full dataset used for testing is 20%, this is because 15300 + 3826 = 19126 and 3826/19126 is around .2000 therefore it's a 20/80 split for testing/training.\n",
        "3. There are 5172 gene expression values used as input to classify each sample in the dataset.\n",
        "4. There are 46 types of tissue in the data labels.\n",
        "5. The size of the output layer in the neural network should be 46 classes. These correspond to the 46 different tissue types.\n",
        "6. The tissue types are given an index in the 'y_index_key' variable. This will allow me to decode the outputted index that refers to a tissue type.\n",
        "\n",
        "Part 2:\n",
        "\n",
        "2. Flowchart image: https://drive.google.com/file/d/16nz-k6c72B74vn98jPiyP2_farFY5km8/view?usp=share_link\n",
        "\n",
        "Part 3:\n",
        "\n",
        "2. y, y_predict : torch.Size([3826, 46]) torch.Size([3826, 46])\n",
        "The y and y_predict are the same size, as intended. They are both [3826, 46]\n",
        "\n",
        "3. Yes, my test set size from Part 1 is 3826 test examples so my y and y_predict both match my test set size from Part 1.\n",
        "\n",
        "\n",
        "5. Both the argmax vectors have the same shape of: \n",
        "argmax y true shape:  torch.Size([3826])\n",
        "argmax y predict shape:  (3826,)\n",
        "Although my y_argmax and y_predict_argmax aren't the same. When comparing them to my table I made in #4, the first y_argmax and the first y_predict_argmax are different. These do not make a lot of sense since the y_predict_argmax should be the same as the y_argmax. The y_predict_argmax should match my truth set.\n",
        "\n",
        "6. My classification accuracy is not very good. \n",
        "It is Accuracy:  0.04181913225300575 so it is around 4% accurate.\n",
        "\n",
        "7. The argmax_y_predicted and argmax_y_true histograms are quite different. The argmax_y_true is more spread out while my argmax_y_predicted is centered around a specific class index (36). If my argmax_y_predicted had better predictions and was more accurate, it would better match the argmax_y_true histogram.\n",
        "\n",
        "\n",
        "Part 5:\n",
        "\n",
        "2. The data was processed with a different optimizer (SGD instead of Adam) and then my training parameters are 5 epochs, 80 for my batch size, and then 3000 for my first hidden layer, and 2000 for my second hidden layer. \n",
        "\n",
        "3. I'm getting a final accuracy of 0.9610559330893884 or 96%.\n",
        "\n",
        "4. The tissues that were the most \"confusing\" for the model include Fallopian Tube and Cervix Uteri, which both had an F1 score (which takes into account precision and recall) of 0.0. Also, the rectum tissue had the lowest non-zero F1 score of .37. The closer to 1 the F1 score is, the better the model.\n",
        "\n",
        "5. Each class's frequency correlates to the model's performance for that class quantitatively because the frequency is calculated based on the precision and recall. The precision of a class is the percentage of correct positive predictions relative to total positive predictions and the recall of a class is the percentage of correct positive predictions relative to total actual positives. So having a frequency between 0 and 1 that is calculated from the recall and precision makes it a qualitative analysis of the model's perfomance on prediction for that specific class.\n",
        "\n",
        "6. A lot of trial and error went into choosing my hyperparameters. I mostly took into account the runtime and the accuracy when changing the hyperparameters. I messed a lot with batch size and the number of epochs. Moving these up and down were mostly to change the runtime of the program. The current batch size of 80 and the 5 epochs seem to give the most middle ground for efficiency. The hyperparameters of the model's hidden layers was where I had the most trial and error. Currently I have 2 hidden layers, the first being 3000 and the second being 2000. This seemed to be the smallest model I could create that would give me the best results for the time spent training. I tried 3 hidden layers and 1 hidden layer with varying sizes and it either took a long time to run with not much better results or it would run quickly but not train the model sufficiently. The way I evaluated if my hyperparameters were the best was simply comparing it to other hyperparameters I was using and choosing the hyperparameters that gave me the best accuracy from training the model paired with the amount of time it took for the program to run.\n",
        "\n",
        "7. The total number of weight parameters you would be optimizing is 2304 because the input nodes multipled the hidden layer nodes is 2048 connections and then we add the hidden layer nodes multiplied by the output nodes which is 256. 2048 + 256 = 2304. The number of bias parameters is 68 which is from adding the number of hidden layer nodes to the number of output nodes. For my network, there are 21,608,000 weight parameters being optimized.. This is because I multiply my input nodes with my first hidden layer (5172 x 3000 = 15,516,000), then I multiply my hidden layer nodes together (3000 x 2000 = 6,000,000), and then I multiply my second hidden layer (the last hidden layer) with the number of output nodes (2000 x 46 = 92,000). Then I add all of these numbers together (15,516,000 + 6,000,000 + 92,000 = 21,608,000). This number of weight parameters in my network is a lot bigger than the number of training examples in my dataset (15,300). The number of weight parameters in my network is around 1412 times bigger than my training dataset.\n",
        "\n",
        "8. There is a risk of overfitting but I don't believe that it is likely with the current parameters. If I added more hidden layers and ultimately created a bigger model, the risk of overfitting would definitely be more likely. The size of the test set makes me not super confident that this model will generalize to all future data I might encounter. Making the test set bigger would better ensure that it could generalize future data. \n",
        "\n",
        "9. There is most likely a better combination of hyperparameters with respect to the test results. I played around with the hyperparameters and these that I landed on seemed to be pretty good however, I believe more extensive testing could illustrate better hyperparameter choices all around. Some short comings are the number of epochs and batch size because I set the batch size somewhat high and the epochs relatively low. Increasing epochs and decreasing batch size would definitely yield a better model however the time it takes to run would dramatically increase. If I had infinite time and resources, I would add another hidden layer that was somewhat small and then I would increase the epochs to somewhere between 20-30 and then decrease batch size to somewhere between 20-50. This would create a better model but would take significantly longer.\n",
        "\n",
        "10. The learning rate and the optimizer can affect this model's performance. I didn't play around with the learning rate all that much but I ended up switching the opitimizer from the torch.optim.Adam to torch.optim.SGD optimizer, which sped the whole program up. SGD probably isn't as good of an optimizer as Adam since it is quicker and I'm using a decently big-sized dataset, however for the purposes of testing it was the best choice in my opinion.\n",
        "\n",
        "11. My model is separating the two \"adrenal gland\" labeled classes. This might indicate that my model has the ability to generalize new \"adrenal gland\" tissue types pretty well since it can separate the \"adrenal gland\" label when there are subtle differences. This is better for generalization since my model can differentiate between the two labels. I would need to test this on a new dataset with \"adrenal gland\" labels in it to calculate the effectiveness of my model for generalize of new data."
      ],
      "metadata": {
        "id": "WEhPYuzIeHcO"
      }
    }
  ]
}